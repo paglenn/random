{
 "metadata": {
  "name": "",
  "signature": "sha256:1f7018aded5c16e7ce298132de625fe7d041d87ee20e125399135be4597e0dff"
 },
 "nbformat": 3,
 "nbformat_minor": 0,
 "worksheets": [
  {
   "cells": [
    {
     "cell_type": "code",
     "collapsed": false,
     "input": [
      "import numpy as np\n",
      "from scipy.stats import *\n",
      "import pandas as pd\n",
      "import matplotlib.pyplot as plt\n",
      " \n",
      "def generate_cell_data(num_samples=100):\n",
      "    \"\"\"\n",
      "        Create fake data that mimics a drug trial on various cell types.\n",
      "    \"\"\"\n",
      " \n",
      "    #probabiity that a cell was treated\n",
      "    p_treated = 0.5\n",
      " \n",
      "    #probability mass function for cell type\n",
      "    type_pmf = np.array([0.20, 0.40, 0.15, 0.25])\n",
      "    #cdf for cell type\n",
      "    type_cdf = np.cumsum(type_pmf)\n",
      " \n",
      "    #mean and std of cell diameter in microns\n",
      "    diameter_mean = 40.0\n",
      "    diameter_std = 5.0\n",
      " \n",
      "    #mean calcium concentration as a function of cell diameter and treatment\n",
      "    def ca_conc(dia, treatment):\n",
      "        base_ca = (np.random.randn() + dia) / 6.0\n",
      "        return base_ca + treatment*np.random.poisson()\n",
      " \n",
      "    #mean lifetime of cell in days as a function of cell type\n",
      "    mean_lifetime_by_type = np.array([1.0, 1.5, 2.0, 4.0])\n",
      " \n",
      "    #create a dictionary of data columns to be turned into a DataFrame\n",
      "    data = {'treated':list(), 'type':list(), 'diameter':list(), 'calcium':list(), 'lifetime':list()}\n",
      "    for n in range(num_samples):\n",
      "        #sample whether or not the cell was treated\n",
      "        treated = np.random.rand() < p_treated\n",
      " \n",
      "        #sample the cell type\n",
      "        cell_type = np.where(type_cdf >= np.random.rand())[0].min()\n",
      " \n",
      "        #sample the diameter\n",
      "        dia = np.random.randn()*diameter_std + diameter_mean\n",
      " \n",
      "        #sample the calcium concentration\n",
      "        ca = ca_conc(dia, treated)\n",
      " \n",
      "        #sample cell lifetime\n",
      "        w1 = 1.0\n",
      "        w2 = 0.16\n",
      "        lifetime = np.random.exponential(w1*mean_lifetime_by_type[cell_type] + w2*ca)\n",
      " \n",
      "        #append the data\n",
      "        data['treated'].append(treated)\n",
      "        data['type'].append(cell_type)\n",
      "        data['diameter'].append(dia)\n",
      "        data['calcium'].append(ca)\n",
      "        data['lifetime'].append(lifetime)\n",
      " \n",
      "    return pd.DataFrame(data)"
     ],
     "language": "python",
     "metadata": {},
     "outputs": [],
     "prompt_number": 1
    },
    {
     "cell_type": "code",
     "collapsed": false,
     "input": [],
     "language": "python",
     "metadata": {},
     "outputs": [
      {
       "ename": "NameError",
       "evalue": "name 'df' is not defined",
       "output_type": "pyerr",
       "traceback": [
        "\u001b[0;31m---------------------------------------------------------------------------\u001b[0m\n\u001b[0;31mNameError\u001b[0m                                 Traceback (most recent call last)",
        "\u001b[0;32m<ipython-input-2-48737aa4c8fc>\u001b[0m in \u001b[0;36m<module>\u001b[0;34m()\u001b[0m\n\u001b[0;32m----> 1\u001b[0;31m \u001b[0mdf\u001b[0m\u001b[0;34m.\u001b[0m\u001b[0mboxplot\u001b[0m\u001b[0;34m(\u001b[0m\u001b[0;34m'lifetime'\u001b[0m\u001b[0;34m,\u001b[0m \u001b[0mby\u001b[0m\u001b[0;34m=\u001b[0m\u001b[0;34m'treated'\u001b[0m\u001b[0;34m)\u001b[0m\u001b[0;34m\u001b[0m\u001b[0m\n\u001b[0m",
        "\u001b[0;31mNameError\u001b[0m: name 'df' is not defined"
       ]
      }
     ],
     "prompt_number": 2
    },
    {
     "cell_type": "code",
     "collapsed": false,
     "input": [
      "df = generate_cell_data(num_samples=1000)"
     ],
     "language": "python",
     "metadata": {},
     "outputs": [],
     "prompt_number": 3
    },
    {
     "cell_type": "code",
     "collapsed": false,
     "input": [
      "df.boxplot('lifetime', by='treated')"
     ],
     "language": "python",
     "metadata": {},
     "outputs": [
      {
       "metadata": {},
       "output_type": "pyout",
       "prompt_number": 4,
       "text": [
        "<matplotlib.axes._subplots.AxesSubplot at 0x111e87f10>"
       ]
      }
     ],
     "prompt_number": 4
    },
    {
     "cell_type": "code",
     "collapsed": false,
     "input": [
      "plt.show()"
     ],
     "language": "python",
     "metadata": {},
     "outputs": [],
     "prompt_number": 5
    },
    {
     "cell_type": "code",
     "collapsed": false,
     "input": [
      "def hist_by_discrete(df):\n",
      "    #select the indices for treated cells\n",
      "    treated_indices = df['treated'] == True\n",
      "    plt.figure()\n",
      "    #create a histogram for untreated cells\n",
      "    plt.hist(df['lifetime'][treated_indices].values, bins=30, color='b')\n",
      "    #overlay a histogram for treated cells\n",
      "    plt.hist(df['lifetime'][~treated_indices].values, bins=30, color='r', alpha=0.75)\n",
      "    plt.legend(['Treated', 'Untreated'])\n",
      "    plt.title('Lifetime')\n",
      " \n",
      "hist_by_discrete(df)\n",
      " "
     ],
     "language": "python",
     "metadata": {},
     "outputs": [],
     "prompt_number": 6
    },
    {
     "cell_type": "code",
     "collapsed": false,
     "input": [
      "plt.show()"
     ],
     "language": "python",
     "metadata": {},
     "outputs": [],
     "prompt_number": 7
    },
    {
     "cell_type": "code",
     "collapsed": false,
     "input": [
      "df.boxplot('type',by='treated')"
     ],
     "language": "python",
     "metadata": {},
     "outputs": [
      {
       "metadata": {},
       "output_type": "pyout",
       "prompt_number": 8,
       "text": [
        "<matplotlib.axes._subplots.AxesSubplot at 0x118c06e10>"
       ]
      }
     ],
     "prompt_number": 8
    },
    {
     "cell_type": "code",
     "collapsed": false,
     "input": [
      "plt.show()"
     ],
     "language": "python",
     "metadata": {},
     "outputs": [],
     "prompt_number": 9
    },
    {
     "cell_type": "code",
     "collapsed": false,
     "input": [
      "df.boxplot('type',by='calcium')"
     ],
     "language": "python",
     "metadata": {},
     "outputs": [
      {
       "metadata": {},
       "output_type": "pyout",
       "prompt_number": 10,
       "text": [
        "<matplotlib.axes._subplots.AxesSubplot at 0x118c48d10>"
       ]
      }
     ],
     "prompt_number": 10
    },
    {
     "cell_type": "code",
     "collapsed": false,
     "input": [
      "plt.show()"
     ],
     "language": "python",
     "metadata": {},
     "outputs": [],
     "prompt_number": 11
    },
    {
     "cell_type": "code",
     "collapsed": false,
     "input": [
      "hist_by_discrete(df)"
     ],
     "language": "python",
     "metadata": {},
     "outputs": [],
     "prompt_number": 12
    },
    {
     "cell_type": "code",
     "collapsed": false,
     "input": [
      "plt.show()\n"
     ],
     "language": "python",
     "metadata": {},
     "outputs": [],
     "prompt_number": 13
    },
    {
     "cell_type": "code",
     "collapsed": false,
     "input": [
      "def hist_by_discrete(df):\n",
      "    #select the indices for treated cells\n",
      "    treated_indices = df['treated'] == True\n",
      "    plt.figure()\n",
      "    #create a histogram for untreated cells\n",
      "    plt.hist(df['calcium'][treated_indices].values, bins=30, color='b')\n",
      "    #overlay a histogram for treated cells\n",
      "    plt.hist(df['calcium'][~treated_indices].values, bins=30, color='r', alpha=0.75)\n",
      "    plt.legend(['Treated', 'Untreated'])\n",
      "    plt.title('Cal')\n",
      " \n",
      "hist_by_discrete(df)\n",
      " "
     ],
     "language": "python",
     "metadata": {},
     "outputs": [],
     "prompt_number": 17
    },
    {
     "cell_type": "code",
     "collapsed": false,
     "input": [
      "plt.show()"
     ],
     "language": "python",
     "metadata": {},
     "outputs": [],
     "prompt_number": 18
    },
    {
     "cell_type": "code",
     "collapsed": false,
     "input": [
      "g = df.groupby(['treated', 'type'])\n",
      "print g.size()"
     ],
     "language": "python",
     "metadata": {},
     "outputs": [
      {
       "output_type": "stream",
       "stream": "stdout",
       "text": [
        "treated  type\n",
        "False    0       108\n",
        "         1       207\n",
        "         2        73\n",
        "         3       127\n",
        "True     0       101\n",
        "         1       189\n",
        "         2        82\n",
        "         3       113\n",
        "dtype: int64\n"
       ]
      }
     ],
     "prompt_number": 19
    },
    {
     "cell_type": "code",
     "collapsed": false,
     "input": [
      "g.agg([len, np.mean, np.std])"
     ],
     "language": "python",
     "metadata": {},
     "outputs": [
      {
       "html": [
        "<div style=\"max-height:1000px;max-width:1500px;overflow:auto;\">\n",
        "<table border=\"1\" class=\"dataframe\">\n",
        "  <thead>\n",
        "    <tr>\n",
        "      <th></th>\n",
        "      <th></th>\n",
        "      <th colspan=\"3\" halign=\"left\">calcium</th>\n",
        "      <th colspan=\"3\" halign=\"left\">diameter</th>\n",
        "      <th colspan=\"3\" halign=\"left\">lifetime</th>\n",
        "    </tr>\n",
        "    <tr>\n",
        "      <th></th>\n",
        "      <th></th>\n",
        "      <th>len</th>\n",
        "      <th>mean</th>\n",
        "      <th>std</th>\n",
        "      <th>len</th>\n",
        "      <th>mean</th>\n",
        "      <th>std</th>\n",
        "      <th>len</th>\n",
        "      <th>mean</th>\n",
        "      <th>std</th>\n",
        "    </tr>\n",
        "    <tr>\n",
        "      <th>treated</th>\n",
        "      <th>type</th>\n",
        "      <th></th>\n",
        "      <th></th>\n",
        "      <th></th>\n",
        "      <th></th>\n",
        "      <th></th>\n",
        "      <th></th>\n",
        "      <th></th>\n",
        "      <th></th>\n",
        "      <th></th>\n",
        "    </tr>\n",
        "  </thead>\n",
        "  <tbody>\n",
        "    <tr>\n",
        "      <th rowspan=\"4\" valign=\"top\">False</th>\n",
        "      <th>0</th>\n",
        "      <td> 108</td>\n",
        "      <td> 6.688955</td>\n",
        "      <td> 0.888799</td>\n",
        "      <td> 108</td>\n",
        "      <td> 40.226489</td>\n",
        "      <td> 5.135621</td>\n",
        "      <td> 108</td>\n",
        "      <td> 1.766901</td>\n",
        "      <td> 1.429594</td>\n",
        "    </tr>\n",
        "    <tr>\n",
        "      <th>1</th>\n",
        "      <td> 207</td>\n",
        "      <td> 6.659485</td>\n",
        "      <td> 0.883934</td>\n",
        "      <td> 207</td>\n",
        "      <td> 39.965576</td>\n",
        "      <td> 5.097819</td>\n",
        "      <td> 207</td>\n",
        "      <td> 2.660097</td>\n",
        "      <td> 2.400035</td>\n",
        "    </tr>\n",
        "    <tr>\n",
        "      <th>2</th>\n",
        "      <td>  73</td>\n",
        "      <td> 6.821977</td>\n",
        "      <td> 0.924460</td>\n",
        "      <td>  73</td>\n",
        "      <td> 40.854729</td>\n",
        "      <td> 5.377755</td>\n",
        "      <td>  73</td>\n",
        "      <td> 2.891496</td>\n",
        "      <td> 2.600823</td>\n",
        "    </tr>\n",
        "    <tr>\n",
        "      <th>3</th>\n",
        "      <td> 127</td>\n",
        "      <td> 6.510398</td>\n",
        "      <td> 0.903924</td>\n",
        "      <td> 127</td>\n",
        "      <td> 39.097111</td>\n",
        "      <td> 5.323495</td>\n",
        "      <td> 127</td>\n",
        "      <td> 5.002754</td>\n",
        "      <td> 4.516570</td>\n",
        "    </tr>\n",
        "    <tr>\n",
        "      <th rowspan=\"4\" valign=\"top\">True </th>\n",
        "      <th>0</th>\n",
        "      <td> 101</td>\n",
        "      <td> 7.698263</td>\n",
        "      <td> 1.341256</td>\n",
        "      <td> 101</td>\n",
        "      <td> 40.133190</td>\n",
        "      <td> 4.633723</td>\n",
        "      <td> 101</td>\n",
        "      <td> 3.053150</td>\n",
        "      <td> 2.697196</td>\n",
        "    </tr>\n",
        "    <tr>\n",
        "      <th>1</th>\n",
        "      <td> 189</td>\n",
        "      <td> 7.749856</td>\n",
        "      <td> 1.402621</td>\n",
        "      <td> 189</td>\n",
        "      <td> 40.333090</td>\n",
        "      <td> 5.592512</td>\n",
        "      <td> 189</td>\n",
        "      <td> 2.883747</td>\n",
        "      <td> 2.741790</td>\n",
        "    </tr>\n",
        "    <tr>\n",
        "      <th>2</th>\n",
        "      <td>  82</td>\n",
        "      <td> 7.303632</td>\n",
        "      <td> 1.243856</td>\n",
        "      <td>  82</td>\n",
        "      <td> 39.525914</td>\n",
        "      <td> 5.096107</td>\n",
        "      <td>  82</td>\n",
        "      <td> 3.483888</td>\n",
        "      <td> 3.473821</td>\n",
        "    </tr>\n",
        "    <tr>\n",
        "      <th>3</th>\n",
        "      <td> 113</td>\n",
        "      <td> 7.474536</td>\n",
        "      <td> 1.202966</td>\n",
        "      <td> 113</td>\n",
        "      <td> 39.539690</td>\n",
        "      <td> 5.353808</td>\n",
        "      <td> 113</td>\n",
        "      <td> 4.801202</td>\n",
        "      <td> 4.745506</td>\n",
        "    </tr>\n",
        "  </tbody>\n",
        "</table>\n",
        "</div>"
       ],
       "metadata": {},
       "output_type": "pyout",
       "prompt_number": 20,
       "text": [
        "              calcium                      diameter                       \\\n",
        "                  len      mean       std       len       mean       std   \n",
        "treated type                                                               \n",
        "False   0         108  6.688955  0.888799       108  40.226489  5.135621   \n",
        "        1         207  6.659485  0.883934       207  39.965576  5.097819   \n",
        "        2          73  6.821977  0.924460        73  40.854729  5.377755   \n",
        "        3         127  6.510398  0.903924       127  39.097111  5.323495   \n",
        "True    0         101  7.698263  1.341256       101  40.133190  4.633723   \n",
        "        1         189  7.749856  1.402621       189  40.333090  5.592512   \n",
        "        2          82  7.303632  1.243856        82  39.525914  5.096107   \n",
        "        3         113  7.474536  1.202966       113  39.539690  5.353808   \n",
        "\n",
        "              lifetime                      \n",
        "                   len      mean       std  \n",
        "treated type                                \n",
        "False   0          108  1.766901  1.429594  \n",
        "        1          207  2.660097  2.400035  \n",
        "        2           73  2.891496  2.600823  \n",
        "        3          127  5.002754  4.516570  \n",
        "True    0          101  3.053150  2.697196  \n",
        "        1          189  2.883747  2.741790  \n",
        "        2           82  3.483888  3.473821  \n",
        "        3          113  4.801202  4.745506  "
       ]
      }
     ],
     "prompt_number": 20
    },
    {
     "cell_type": "code",
     "collapsed": false,
     "input": [
      "C = np.corrcoef(df['diameter'], df['calcium'])\n",
      "cc = C[0, 1]\n",
      "print \"{:.1%} correlated\".format(cc)"
     ],
     "language": "python",
     "metadata": {},
     "outputs": [
      {
       "output_type": "stream",
       "stream": "stdout",
       "text": [
        "72.8% correlated\n"
       ]
      }
     ],
     "prompt_number": 36
    },
    {
     "cell_type": "raw",
     "metadata": {},
     "source": []
    },
    {
     "cell_type": "code",
     "collapsed": false,
     "input": [
      "\"low correlation coefficient --> no linear correlation, but there might be a nonlinear one \""
     ],
     "language": "python",
     "metadata": {},
     "outputs": [
      {
       "metadata": {},
       "output_type": "pyout",
       "prompt_number": 31,
       "text": [
        "'low correlation coefficient --> no linear correlation, but there might be a nonlinear one '"
       ]
      }
     ],
     "prompt_number": 31
    },
    {
     "cell_type": "code",
     "collapsed": false,
     "input": [
      "df.hist('lifetime', by='type')"
     ],
     "language": "python",
     "metadata": {},
     "outputs": [
      {
       "metadata": {},
       "output_type": "pyout",
       "prompt_number": 37,
       "text": [
        "array([[<matplotlib.axes._subplots.AxesSubplot object at 0x1199bf590>,\n",
        "        <matplotlib.axes._subplots.AxesSubplot object at 0x12b386990>],\n",
        "       [<matplotlib.axes._subplots.AxesSubplot object at 0x12b40c890>,\n",
        "        <matplotlib.axes._subplots.AxesSubplot object at 0x12b471750>]], dtype=object)"
       ]
      }
     ],
     "prompt_number": 37
    },
    {
     "cell_type": "code",
     "collapsed": false,
     "input": [
      "plt.show()"
     ],
     "language": "python",
     "metadata": {},
     "outputs": []
    },
    {
     "cell_type": "code",
     "collapsed": false,
     "input": [],
     "language": "python",
     "metadata": {},
     "outputs": []
    }
   ],
   "metadata": {}
  }
 ]
}